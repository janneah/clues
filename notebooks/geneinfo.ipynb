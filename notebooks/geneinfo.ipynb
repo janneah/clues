{
 "cells": [
  {
   "cell_type": "code",
   "execution_count": 2,
   "metadata": {},
   "outputs": [],
   "source": [
    "import matplotlib.pyplot as plt\n",
    "from IPython.display import set_matplotlib_formats\n",
    "set_matplotlib_formats('retina', 'png')\n",
    "\n",
    "import numpy as np\n",
    "\n",
    "import seaborn as sns\n",
    "sns.set_style('white')\n",
    "\n",
    "import mpld3\n",
    "\n",
    "import mygene\n",
    "from geneinfo import geneinfo, geneplot, connect_mygene\n",
    "\n",
    "mg = mygene.MyGeneInfo()\n",
    "connect_mygene(mg)"
   ]
  },
  {
   "cell_type": "code",
   "execution_count": 7,
   "metadata": {},
   "outputs": [
    {
     "data": {
      "text/markdown": [
       "**Symbol:** **_HYAL2_** (protein-coding) &nbsp; &nbsp; &nbsp; &nbsp; **Aliases:** LUCA2  \n",
       "*hyaluronidase 2*  \n",
       "**Summary:** This gene encodes a weak acid-active hyaluronidase. The encoded protein is similar in structure to other more active hyaluronidases. Hyaluronidases degrade hyaluronan, one of the major glycosaminoglycans of the extracellular matrix. Hyaluronan and fragments of hyaluronan are thought to be involved in cell proliferation, migration and differentiation. Although it was previously thought to be a lysosomal hyaluronidase that is active at a pH below 4, the encoded protein is likely a GPI-anchored cell surface protein. This hyaluronidase serves as a receptor for the oncogenic virus Jaagsiekte sheep retrovirus. The gene is one of several related genes in a region of chromosome 3p21.3 associated with tumor suppression. This gene encodes two alternatively spliced transcript variants which differ only in the 5' UTR.[provided by RefSeq, Mar 2010].  \n",
       "**Genomic position:** 3:50317790-50322782 (hg38), 3:50355221-50360337, HG325_PATCH:50355222-50360338 (hg19)  \n",
       "[Gene card](https://www.genecards.org/cgi-bin/carddisp.pl?gene=HYAL2)  \n",
       "\n",
       "\n",
       " ----"
      ],
      "text/plain": [
       "<IPython.core.display.Markdown object>"
      ]
     },
     "metadata": {},
     "output_type": "display_data"
    },
    {
     "data": {
      "text/markdown": [
       "**Symbol:** **_HEMK1_** (protein-coding) &nbsp; &nbsp; &nbsp; &nbsp; **Aliases:** HEMK, MPRMC, MTQ1  \n",
       "*HemK methyltransferase family member 1*  \n",
       "**Genomic position:** 3:50569152-50596168 (hg38), 3:50606583-50622366 (hg19)  \n",
       "[Gene card](https://www.genecards.org/cgi-bin/carddisp.pl?gene=HEMK1)  \n",
       "\n",
       "\n",
       " ----"
      ],
      "text/plain": [
       "<IPython.core.display.Markdown object>"
      ]
     },
     "metadata": {},
     "output_type": "display_data"
    },
    {
     "data": {
      "text/markdown": [
       "**Symbol:** **_DHX30_** (protein-coding) &nbsp; &nbsp; &nbsp; &nbsp; **Aliases:** DDX30, NEDMIAL, RETCOR  \n",
       "*DExH-box helicase 30*  \n",
       "**Summary:** DEAD box proteins, characterized by the conserved motif Asp-Glu-Ala-Asp (DEAD), are putative RNA helicases. They are implicated in a number of cellular processes involving alteration of RNA secondary structure such as translation initiation, nuclear and mitochondrial splicing, and ribosome and spliceosome assembly. Based on their distribution patterns, some members of this DEAD box protein family are believed to be involved in embryogenesis, spermatogenesis, and cellular growth and division. The family member encoded by this gene is a mitochondrial nucleoid protein that associates with mitochondrial DNA. It has also been identified as a component of a transcriptional repressor complex that functions in retinal development, and it is required to optimize the function of the zinc-finger antiviral protein. Alternatively spliced transcript variants have been found for this gene. [provided by RefSeq, Feb 2013].  \n",
       "**Genomic position:** 3:47802909-47850195 (hg38), 3:47844399-47891685 (hg19)  \n",
       "[Gene card](https://www.genecards.org/cgi-bin/carddisp.pl?gene=DHX30)  \n",
       "\n",
       "\n",
       " ----"
      ],
      "text/plain": [
       "<IPython.core.display.Markdown object>"
      ]
     },
     "metadata": {},
     "output_type": "display_data"
    },
    {
     "data": {
      "text/markdown": [
       "**Symbol:** **_PRSS50_** (protein-coding) &nbsp; &nbsp; &nbsp; &nbsp; **Aliases:** CT20, TSP50  \n",
       "*serine protease 50*  \n",
       "**Genomic position:** 3:46712117-46717869 (hg38), 3:46753605-46854064 (hg19)  \n",
       "[Gene card](https://www.genecards.org/cgi-bin/carddisp.pl?gene=PRSS50)  \n",
       "\n",
       "\n",
       " ----"
      ],
      "text/plain": [
       "<IPython.core.display.Markdown object>"
      ]
     },
     "metadata": {},
     "output_type": "display_data"
    },
    {
     "data": {
      "text/markdown": [
       "**Symbol:** **_IQCF3_** (protein-coding)  \n",
       "*IQ motif containing F3*  \n",
       "**Genomic position:** 3:51826883-51830856 (hg38), 3:51851620-51864876 (hg19)  \n",
       "[Gene card](https://www.genecards.org/cgi-bin/carddisp.pl?gene=IQCF3)  \n",
       "\n",
       "\n",
       " ----"
      ],
      "text/plain": [
       "<IPython.core.display.Markdown object>"
      ]
     },
     "metadata": {},
     "output_type": "display_data"
    },
    {
     "data": {
      "text/markdown": [
       "**Symbol:** **_KIF9_** (protein-coding)  \n",
       "*kinesin family member 9*  \n",
       "**Genomic position:** 3:47228026-47283451 (hg38), 3:47269516-47324941 (hg19)  \n",
       "[Gene card](https://www.genecards.org/cgi-bin/carddisp.pl?gene=KIF9)  \n",
       "\n",
       "\n",
       " ----"
      ],
      "text/plain": [
       "<IPython.core.display.Markdown object>"
      ]
     },
     "metadata": {},
     "output_type": "display_data"
    },
    {
     "data": {
      "text/markdown": [
       "**Symbol:** **_TEX264_** (protein-coding) &nbsp; &nbsp; &nbsp; &nbsp; **Aliases:** ZSIG11  \n",
       "*testis expressed 264, ER-phagy receptor*  \n",
       "**Genomic position:** 3:51662693-51704323 (hg38), 3:51696709-51738339 (hg19)  \n",
       "[Gene card](https://www.genecards.org/cgi-bin/carddisp.pl?gene=TEX264)  \n",
       "\n",
       "\n",
       " ----"
      ],
      "text/plain": [
       "<IPython.core.display.Markdown object>"
      ]
     },
     "metadata": {},
     "output_type": "display_data"
    }
   ],
   "source": [
    "geneinfo(['HYAL2', 'HEMK1', 'DHX30', 'PRSS50', 'IQCF3', 'KIF9', 'TEX264'])"
   ]
  },
  {
   "cell_type": "code",
   "execution_count": 9,
   "metadata": {},
   "outputs": [
    {
     "data": {
      "text/markdown": [
       "**Symbol:** **_TDGF1_** (protein-coding) &nbsp; &nbsp; &nbsp; &nbsp; **Aliases:** CR, CR-1, CRGF, CRIPTO  \n",
       "*teratocarcinoma-derived growth factor 1*  \n",
       "**Summary:** This gene encodes an epidermal growth factor-related protein that contains a cripto, FRL-1, and cryptic domain. The encoded protein is an extracellular, membrane-bound signaling protein that plays an essential role in embryonic development and tumor growth. Mutations in this gene are associated with forebrain defects. Pseudogenes of this gene are found on chromosomes 2, 3, 6, 8, 19 and X. Alternate splicing results in multiple transcript variants. [provided by RefSeq, Mar 2010].  \n",
       "**Genomic position:** 3:46574534-46582457 (hg38), 3:46616045-46668033 (hg19)  \n",
       "[Gene card](https://www.genecards.org/cgi-bin/carddisp.pl?gene=TDGF1)  \n",
       "\n",
       "\n",
       " ----"
      ],
      "text/plain": [
       "<IPython.core.display.Markdown object>"
      ]
     },
     "metadata": {},
     "output_type": "display_data"
    },
    {
     "data": {
      "text/markdown": [
       "**Symbol:** **_PBRM1_** (protein-coding) &nbsp; &nbsp; &nbsp; &nbsp; **Aliases:** BAF180, PB1  \n",
       "*polybromo 1*  \n",
       "**Summary:** This locus encodes a subunit of ATP-dependent chromatin-remodeling complexes. The encoded protein has been identified as in integral component of complexes necessary for ligand-dependent transcriptional activation by nuclear hormone receptors. Mutations at this locus have been associated with primary clear cell renal cell carcinoma. [provided by RefSeq, Feb 2012].  \n",
       "**Genomic position:** 3:52545352-52685917 (hg38), 3:52579368-52719933 (hg19)  \n",
       "[Gene card](https://www.genecards.org/cgi-bin/carddisp.pl?gene=PBRM1)  \n",
       "\n",
       "\n",
       " ----"
      ],
      "text/plain": [
       "<IPython.core.display.Markdown object>"
      ]
     },
     "metadata": {},
     "output_type": "display_data"
    },
    {
     "data": {
      "text/markdown": [
       "**Symbol:** **_UQCRC1_** (protein-coding) &nbsp; &nbsp; &nbsp; &nbsp; **Aliases:** D3S3191, QCR1, UQCR1  \n",
       "*ubiquinol-cytochrome c reductase core protein 1*  \n",
       "**Genomic position:** 3:48599002-48610976 (hg38), 3:48636435-48648409 (hg19)  \n",
       "[Gene card](https://www.genecards.org/cgi-bin/carddisp.pl?gene=UQCRC1)  \n",
       "\n",
       "\n",
       " ----"
      ],
      "text/plain": [
       "<IPython.core.display.Markdown object>"
      ]
     },
     "metadata": {},
     "output_type": "display_data"
    },
    {
     "data": {
      "text/markdown": [
       "**Symbol:** **_MAP4_** (protein-coding)  \n",
       "*microtubule associated protein 4*  \n",
       "**Summary:** The protein encoded by this gene is a major non-neuronal microtubule-associated protein. This protein contains a domain similar to the microtubule-binding domains of neuronal microtubule-associated protein (MAP2) and microtubule-associated protein tau (MAPT/TAU). This protein promotes microtubule assembly, and has been shown to counteract destabilization of interphase microtubule catastrophe promotion. Cyclin B was found to interact with this protein, which targets cell division cycle 2 (CDC2) kinase to microtubules. The phosphorylation of this protein affects microtubule properties and cell cycle progression. Multiple transcript variants encoding different isoforms have been found for this gene. [provided by RefSeq, Aug 2008].  \n",
       "**Genomic position:** 3:47850690-48089272 (hg38), 3:47892182-48130769 (hg19)  \n",
       "[Gene card](https://www.genecards.org/cgi-bin/carddisp.pl?gene=MAP4)  \n",
       "\n",
       "\n",
       " ----"
      ],
      "text/plain": [
       "<IPython.core.display.Markdown object>"
      ]
     },
     "metadata": {},
     "output_type": "display_data"
    },
    {
     "data": {
      "text/markdown": [
       "**Symbol:** **_RBM6_** (protein-coding) &nbsp; &nbsp; &nbsp; &nbsp; **Aliases:** 3G2, DEF-3, DEF3, HLC-11, NY-LU-12, g16  \n",
       "*RNA binding motif protein 6*  \n",
       "**Genomic position:** 3:49940007-50100045 (hg38), 3:49977440-50137478 (hg19)  \n",
       "[Gene card](https://www.genecards.org/cgi-bin/carddisp.pl?gene=RBM6)  \n",
       "\n",
       "\n",
       " ----"
      ],
      "text/plain": [
       "<IPython.core.display.Markdown object>"
      ]
     },
     "metadata": {},
     "output_type": "display_data"
    },
    {
     "data": {
      "text/markdown": [
       "**Symbol:** **_STIMATE-MUSTN1_** (protein-coding) &nbsp; &nbsp; &nbsp; &nbsp; **Aliases:** TMEM110-MUSTN1  \n",
       "*STIMATE-MUSTN1 readthrough*  \n",
       "**Summary:** This locus represents naturally occurring read-through transcription between the neighboring TMEM110 (transmembrane protein 110) and MUSTN1 (musculoskeletal, embryonic nuclear protein 1) genes. The read-through transcript encodes a fusion protein that shares sequence identity with each individual gene product. [provided by RefSeq, Nov 2010].  \n",
       "**Genomic position:** 3:52833121-52897562 (hg38), 3:52867137-52931578 (hg19)  \n",
       "[Gene card](https://www.genecards.org/cgi-bin/carddisp.pl?gene=STIMATE-MUSTN1)  \n",
       "\n",
       "\n",
       " ----"
      ],
      "text/plain": [
       "<IPython.core.display.Markdown object>"
      ]
     },
     "metadata": {},
     "output_type": "display_data"
    }
   ],
   "source": [
    "geneinfo(['TDGF1', 'PBRM1', 'UQCRC1', 'MAP4', 'RBM6', 'TMEM110'])"
   ]
  },
  {
   "cell_type": "code",
   "execution_count": 14,
   "metadata": {},
   "outputs": [
    {
     "data": {
      "text/markdown": [
       "**Symbol:** **_RNF123_** (protein-coding) &nbsp; &nbsp; &nbsp; &nbsp; **Aliases:** FP1477, KPC1  \n",
       "*ring finger protein 123*  \n",
       "**Summary:** The protein encoded by this gene contains a C-terminal RING finger domain, a motif present in a variety of functionally distinct proteins and known to be involved in protein-protein and protein-DNA interactions, and an N-terminal SPRY domain. This protein displays E3 ubiquitin ligase activity toward the cyclin-dependent kinase inhibitor 1B which is also known as p27 or KIP1. Alternative splicing results in multiple transcript variants. [provided by RefSeq, Feb 2016].  \n",
       "**Genomic position:** 3:49689538-49721529 (hg38), 3:49726932-49758962 (hg19)  \n",
       "[Gene card](https://www.genecards.org/cgi-bin/carddisp.pl?gene=RNF123)  \n",
       "\n",
       "\n",
       " ----"
      ],
      "text/plain": [
       "<IPython.core.display.Markdown object>"
      ]
     },
     "metadata": {},
     "output_type": "display_data"
    },
    {
     "data": {
      "text/markdown": [
       "**Symbol:** **_RFT1_** (protein-coding) &nbsp; &nbsp; &nbsp; &nbsp; **Aliases:** CDG1N  \n",
       "*RFT1 homolog*  \n",
       "**Summary:** This gene encodes an enzyme which catalyzes the translocation of the Man(5)GlcNAc (2)-PP-Dol intermediate from the cytoplasmic to the luminal side of the endoplasmic reticulum membrane in the pathway for the N-glycosylation of proteins. Mutations in this gene are associated with congenital disorder of glycosylation type In.[provided by RefSeq, Dec 2008].  \n",
       "**Genomic position:** 3:53088483-53130453 (hg38), 3:53122499-53164478 (hg19)  \n",
       "[Gene card](https://www.genecards.org/cgi-bin/carddisp.pl?gene=RFT1)  \n",
       "\n",
       "\n",
       " ----"
      ],
      "text/plain": [
       "<IPython.core.display.Markdown object>"
      ]
     },
     "metadata": {},
     "output_type": "display_data"
    },
    {
     "data": {
      "text/markdown": [
       "**Symbol:** **_DNAH1_** (protein-coding) &nbsp; &nbsp; &nbsp; &nbsp; **Aliases:** CILD37, DNAHC1, HDHC7, HL-11, HL11, HSRF-1, SPGF18, XLHSRF-1  \n",
       "*dynein axonemal heavy chain 1*  \n",
       "**Summary:** This gene encodes an inner dynein arm heavy chain that provides structural support between the radial spokes and the outer doublet of the sperm tail. Naturally occurring mutations in this gene are associated with primary ciliary dyskinesia and multiple morphological anomalies of the flagella that result in asthenozoospermia and male infertility. Mice with a homozygous knockout of the orthologous gene are viable but have reduced sperm motility and are infertile. [provided by RefSeq, Feb 2017].  \n",
       "**Genomic position:** 3:52316319-52400491 (hg38), 3:52350335-52434507 (hg19)  \n",
       "[Gene card](https://www.genecards.org/cgi-bin/carddisp.pl?gene=DNAH1)  \n",
       "\n",
       "\n",
       " ----"
      ],
      "text/plain": [
       "<IPython.core.display.Markdown object>"
      ]
     },
     "metadata": {},
     "output_type": "display_data"
    },
    {
     "data": {
      "text/markdown": [
       "**Symbol:** **_PRKCD_** (protein-coding) &nbsp; &nbsp; &nbsp; &nbsp; **Aliases:** ALPS3, CVID9, MAY1, PKCD, nPKC-delta  \n",
       "*protein kinase C delta*  \n",
       "**Summary:** The protein encoded by this gene is a member of the protein kinase C family of serine- and threonine-specific protein kinases. The encoded protein is activated by diacylglycerol and is both a tumor suppressor and a positive regulator of cell cycle progression. Also, this protein can positively or negatively regulate apoptosis. Defects in this gene are a cause of autoimmune lymphoproliferative syndrome. [provided by RefSeq, Aug 2017].  \n",
       "**Genomic position:** 3:53156009-53192717 (hg38), 3:53190025-53226733, HG957_PATCH:53190025-53226733 (hg19)  \n",
       "[Gene card](https://www.genecards.org/cgi-bin/carddisp.pl?gene=PRKCD)  \n",
       "\n",
       "\n",
       " ----"
      ],
      "text/plain": [
       "<IPython.core.display.Markdown object>"
      ]
     },
     "metadata": {},
     "output_type": "display_data"
    }
   ],
   "source": [
    "geneinfo(['RNF123', 'RFT1', 'DNAH1', 'PRKCD'])"
   ]
  },
  {
   "cell_type": "code",
   "execution_count": 18,
   "metadata": {},
   "outputs": [
    {
     "data": {
      "text/markdown": [
       "**Symbol:** **_HYAL2_** (protein-coding) &nbsp; &nbsp; &nbsp; &nbsp; **Aliases:** LUCA2  \n",
       "*hyaluronidase 2*  \n",
       "**Summary:** This gene encodes a weak acid-active hyaluronidase. The encoded protein is similar in structure to other more active hyaluronidases. Hyaluronidases degrade hyaluronan, one of the major glycosaminoglycans of the extracellular matrix. Hyaluronan and fragments of hyaluronan are thought to be involved in cell proliferation, migration and differentiation. Although it was previously thought to be a lysosomal hyaluronidase that is active at a pH below 4, the encoded protein is likely a GPI-anchored cell surface protein. This hyaluronidase serves as a receptor for the oncogenic virus Jaagsiekte sheep retrovirus. The gene is one of several related genes in a region of chromosome 3p21.3 associated with tumor suppression. This gene encodes two alternatively spliced transcript variants which differ only in the 5' UTR.[provided by RefSeq, Mar 2010].  \n",
       "**Genomic position:** 3:50317790-50322782 (hg38), 3:50355221-50360337, HG325_PATCH:50355222-50360338 (hg19)  \n",
       "[Gene card](https://www.genecards.org/cgi-bin/carddisp.pl?gene=HYAL2)  \n",
       "\n",
       "\n",
       " ----"
      ],
      "text/plain": [
       "<IPython.core.display.Markdown object>"
      ]
     },
     "metadata": {},
     "output_type": "display_data"
    },
    {
     "data": {
      "text/markdown": [
       "**Symbol:** **_HEMK1_** (protein-coding) &nbsp; &nbsp; &nbsp; &nbsp; **Aliases:** HEMK, MPRMC, MTQ1  \n",
       "*HemK methyltransferase family member 1*  \n",
       "**Genomic position:** 3:50569152-50596168 (hg38), 3:50606583-50622366 (hg19)  \n",
       "[Gene card](https://www.genecards.org/cgi-bin/carddisp.pl?gene=HEMK1)  \n",
       "\n",
       "\n",
       " ----"
      ],
      "text/plain": [
       "<IPython.core.display.Markdown object>"
      ]
     },
     "metadata": {},
     "output_type": "display_data"
    },
    {
     "data": {
      "text/markdown": [
       "**Symbol:** **_SMARCC1_** (protein-coding) &nbsp; &nbsp; &nbsp; &nbsp; **Aliases:** BAF155, CRACC1, Rsc8, SRG3, SWI3  \n",
       "*SWI/SNF related, matrix associated, actin dependent regulator of chromatin subfamily c member 1*  \n",
       "**Summary:** The protein encoded by this gene is a member of the SWI/SNF family of proteins, whose members display helicase and ATPase activities and which are thought to regulate transcription of certain genes by altering the chromatin structure around those genes. The encoded protein is part of the large ATP-dependent chromatin remodeling complex SNF/SWI and contains a predicted leucine zipper motif typical of many transcription factors. [provided by RefSeq, Jul 2008].  \n",
       "**Genomic position:** 3:47585269-47782106 (hg38), 3:47626762-47823596 (hg19)  \n",
       "[Gene card](https://www.genecards.org/cgi-bin/carddisp.pl?gene=SMARCC1)  \n",
       "\n",
       "\n",
       " ----"
      ],
      "text/plain": [
       "<IPython.core.display.Markdown object>"
      ]
     },
     "metadata": {},
     "output_type": "display_data"
    }
   ],
   "source": [
    "geneinfo(['HYAL2','HEMK1', 'SMARCC1'])"
   ]
  },
  {
   "cell_type": "code",
   "execution_count": 19,
   "metadata": {},
   "outputs": [
    {
     "data": {
      "text/markdown": [
       "**Symbol:** **_DHX30_** (protein-coding) &nbsp; &nbsp; &nbsp; &nbsp; **Aliases:** DDX30, NEDMIAL, RETCOR  \n",
       "*DExH-box helicase 30*  \n",
       "**Summary:** DEAD box proteins, characterized by the conserved motif Asp-Glu-Ala-Asp (DEAD), are putative RNA helicases. They are implicated in a number of cellular processes involving alteration of RNA secondary structure such as translation initiation, nuclear and mitochondrial splicing, and ribosome and spliceosome assembly. Based on their distribution patterns, some members of this DEAD box protein family are believed to be involved in embryogenesis, spermatogenesis, and cellular growth and division. The family member encoded by this gene is a mitochondrial nucleoid protein that associates with mitochondrial DNA. It has also been identified as a component of a transcriptional repressor complex that functions in retinal development, and it is required to optimize the function of the zinc-finger antiviral protein. Alternatively spliced transcript variants have been found for this gene. [provided by RefSeq, Feb 2013].  \n",
       "**Genomic position:** 3:47802909-47850195 (hg38), 3:47844399-47891685 (hg19)  \n",
       "[Gene card](https://www.genecards.org/cgi-bin/carddisp.pl?gene=DHX30)  \n",
       "\n",
       "\n",
       " ----"
      ],
      "text/plain": [
       "<IPython.core.display.Markdown object>"
      ]
     },
     "metadata": {},
     "output_type": "display_data"
    }
   ],
   "source": [
    "geneinfo('DHX30')"
   ]
  }
 ],
 "metadata": {
  "kernelspec": {
   "display_name": "Python 3",
   "language": "python",
   "name": "python3"
  },
  "language_info": {
   "codemirror_mode": {
    "name": "ipython",
    "version": 3
   },
   "file_extension": ".py",
   "mimetype": "text/x-python",
   "name": "python",
   "nbconvert_exporter": "python",
   "pygments_lexer": "ipython3",
   "version": "3.7.6"
  }
 },
 "nbformat": 4,
 "nbformat_minor": 4
}
